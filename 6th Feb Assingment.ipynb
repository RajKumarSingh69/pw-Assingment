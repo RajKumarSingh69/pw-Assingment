{
 "cells": [
  {
   "cell_type": "code",
   "execution_count": 5,
   "id": "64bdc109",
   "metadata": {},
   "outputs": [
    {
     "ename": "TypeError",
     "evalue": "'list_iterator' object cannot be interpreted as an integer",
     "output_type": "error",
     "traceback": [
      "\u001b[1;31m---------------------------------------------------------------------------\u001b[0m",
      "\u001b[1;31mTypeError\u001b[0m                                 Traceback (most recent call last)",
      "Cell \u001b[1;32mIn [5], line 14\u001b[0m\n\u001b[0;32m     12\u001b[0m                 l\u001b[38;5;241m.\u001b[39mappend(i)\n\u001b[0;32m     13\u001b[0m     k\u001b[38;5;241m.\u001b[39mappend(i)\n\u001b[1;32m---> 14\u001b[0m \u001b[43mtask\u001b[49m\u001b[43m(\u001b[49m\u001b[43mn\u001b[49m\u001b[43m)\u001b[49m\n\u001b[0;32m     15\u001b[0m \u001b[38;5;28mprint\u001b[39m(l)\n\u001b[0;32m     16\u001b[0m \u001b[38;5;28mprint\u001b[39m(k)\n",
      "Cell \u001b[1;32mIn [5], line 9\u001b[0m, in \u001b[0;36mtask\u001b[1;34m(n)\u001b[0m\n\u001b[0;32m      8\u001b[0m \u001b[38;5;28;01mdef\u001b[39;00m \u001b[38;5;21mtask\u001b[39m(n):\n\u001b[1;32m----> 9\u001b[0m     \u001b[38;5;28;01mfor\u001b[39;00m i \u001b[38;5;129;01min\u001b[39;00m \u001b[38;5;28;43mrange\u001b[39;49m\u001b[43m(\u001b[49m\u001b[38;5;241;43m1\u001b[39;49m\u001b[43m,\u001b[49m\u001b[43mn\u001b[49m\u001b[43m)\u001b[49m:\n\u001b[0;32m     10\u001b[0m         \u001b[38;5;28;01mfor\u001b[39;00m j \u001b[38;5;129;01min\u001b[39;00m i:\n\u001b[0;32m     11\u001b[0m             \u001b[38;5;28;01mif\u001b[39;00m i\u001b[38;5;241m==\u001b[39m(\u001b[38;5;28mint\u001b[39m):\n",
      "\u001b[1;31mTypeError\u001b[0m: 'list_iterator' object cannot be interpreted as an integer"
     ]
    }
   ],
   "source": [
    "list1 = [1,2,3,4, [44,55,66, True], False, (34,56,78,89,34), {1,2,3,3,2,1}, {1:34, \"key2\": [55, 67, 78, 89], 4: (45,\n",
    "22, 61, 34)}, [56, 'data science'], 'Machine Learning']\n",
    "n=iter(list1)\n",
    "\n",
    "l=[]\n",
    "k=[]\n",
    "\n",
    "def task(n):\n",
    "    for i in range(1,n):\n",
    "        for j in i:\n",
    "            if i==(int):\n",
    "                l.append(i)\n",
    "    k.append(i)\n",
    "task(n)\n",
    "print(l)\n",
    "print(k)\n",
    "        \n",
    "            \n",
    "    "
   ]
  },
  {
   "cell_type": "code",
   "execution_count": 32,
   "id": "bcc31d3f",
   "metadata": {},
   "outputs": [
    {
     "name": "stdout",
     "output_type": "stream",
     "text": [
      "Genuine List: [[10, 20, 30, 40], [50, 60, 70], [80, 90, 100]]\n",
      "Converted Flat List: [10, 20, 30, 40, 50, 60, 70, 80, 90, 100]\n"
     ]
    }
   ],
   "source": [
    "def flattenlist(_2dlist):  \n",
    "    # defining an empty list  \n",
    "    flatlist = []  \n",
    "    # Iterating through the outer list  \n",
    "    for item in _2dlist:  \n",
    "        if type(item) is list:  \n",
    "            # If the item is of the list type, iterating through the sub-list  \n",
    "            for element in item:  \n",
    "                flatlist.append(element)  \n",
    "        else:  \n",
    "            flatlist.append(item)  \n",
    "    return flatlist  \n",
    "  \n",
    "# defining the nested list  \n",
    "nestedlist = [[10, 20, 30, 40], [50, 60, 70], [80, 90, 100]]  \n",
    "print('Genuine List:', nestedlist)  \n",
    "print('Converted Flat List:', flattenlist(nestedlist))  "
   ]
  },
  {
   "cell_type": "code",
   "execution_count": 51,
   "id": "719b6fa1",
   "metadata": {},
   "outputs": [
    {
     "name": "stdout",
     "output_type": "stream",
     "text": [
      "your list= [1, 2, 3, 4, [44, 55, 66, True], False, (34, 56, 78, 89, 34), {1, 2, 3}, {1: 34, 'key2': [55, 67, 78, 89], 4: (45, 22, 61, 34)}, [56, 'data science'], 'Machine Learning']\n",
      "flated list= [44, 55, 66, True, 56, 'data science']\n"
     ]
    }
   ],
   "source": [
    "def task(list1):\n",
    "    flatlist=[]\n",
    "    n=[]\n",
    "    for i in list1:\n",
    "        if i is int:\n",
    "            n.append(i)\n",
    "        if type(i) is list:\n",
    "            for j in i:\n",
    "                flatlist.append(j)\n",
    "    return flatlist\n",
    "list1 = [1,2,3,4, [44,55,66, True], False, (34,56,78,89,34), {1,2,3,3,2,1}, {1:34, \"key2\": [55, 67, 78, 89], 4: (45,\n",
    "22, 61, 34)}, [56, 'data science'], 'Machine Learning']\n",
    "\n",
    "print(\"your list=\",list1)\n",
    "print(\"flated list=\",task(list1))\n",
    "\n",
    "                "
   ]
  },
  {
   "cell_type": "code",
   "execution_count": 41,
   "id": "b675c951",
   "metadata": {},
   "outputs": [],
   "source": [
    "list1 = [1,2,3,4, [44,55,66, True], False, (34,56,78,89,34), {1,2,3,3,2,1}, {1:34, \"key2\": [55, 67, 78, 89], 4: (45,\n",
    "22, 61, 34)}, [56, 'data science'], 'Machine Learning']\n",
    "for i in list1:\n",
    "    if i==int:\n",
    "        print(i)\n"
   ]
  },
  {
   "cell_type": "code",
   "execution_count": 42,
   "id": "6d672e1e",
   "metadata": {},
   "outputs": [],
   "source": [
    "list1 = [1,2,3,4, [44,55,66, True], False, (34,56,78,89,34), {1,2,3,3,2,1}, {1:34, \"key2\": [55, 67, 78, 89], 4: (45,\n",
    "22, 61, 34)}, [56, 'data science'], 'Machine Learning']\n",
    "for i in list1:\n",
    "    if i==int:\n",
    "        print(i)"
   ]
  },
  {
   "cell_type": "code",
   "execution_count": null,
   "id": "a9a2c02c",
   "metadata": {},
   "outputs": [],
   "source": []
  }
 ],
 "metadata": {
  "kernelspec": {
   "display_name": "Python 3 (ipykernel)",
   "language": "python",
   "name": "python3"
  },
  "language_info": {
   "codemirror_mode": {
    "name": "ipython",
    "version": 3
   },
   "file_extension": ".py",
   "mimetype": "text/x-python",
   "name": "python",
   "nbconvert_exporter": "python",
   "pygments_lexer": "ipython3",
   "version": "3.10.6"
  }
 },
 "nbformat": 4,
 "nbformat_minor": 5
}
