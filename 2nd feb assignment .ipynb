{
 "cells": [
  {
   "cell_type": "code",
   "execution_count": null,
   "id": "db04547c",
   "metadata": {},
   "outputs": [],
   "source": [
    "#Q1 EXPLAIN WITH AN EXAMPLE EACH WHEN TO USE A FOR LOOP AND A WHILE LOOP\n",
    "\n",
    "\"\"\"FOR LOOP:- The for loop in python is used to iterate the statements \n",
    "    or a part of the program several times .\"\"\"\n",
    "    \n",
    "\"\"\"WHILE LOOP:- While loop is used to execute a block of stetements repedately \n",
    "    until a given a condition is satisfyed.\"\"\""
   ]
  },
  {
   "cell_type": "code",
   "execution_count": 1,
   "id": "6e3e26a5",
   "metadata": {},
   "outputs": [
    {
     "name": "stdout",
     "output_type": "stream",
     "text": [
      "1\n",
      "2\n",
      "3\n",
      "4\n",
      "5\n",
      "6\n",
      "7\n",
      "8\n",
      "9\n"
     ]
    }
   ],
   "source": [
    "# for loop example\n",
    "n=10\n",
    "for i in range(1,n):\n",
    "    print(i)"
   ]
  },
  {
   "cell_type": "code",
   "execution_count": 3,
   "id": "5f5ae191",
   "metadata": {},
   "outputs": [
    {
     "name": "stdout",
     "output_type": "stream",
     "text": [
      "1\n",
      "2\n",
      "3\n",
      "4\n",
      "5\n",
      "6\n",
      "7\n",
      "8\n",
      "9\n"
     ]
    }
   ],
   "source": [
    "# while loop example\n",
    "n=1\n",
    "while(n<10):\n",
    "    print(n)\n",
    "    n+=1"
   ]
  },
  {
   "cell_type": "code",
   "execution_count": 5,
   "id": "24bbf51a",
   "metadata": {},
   "outputs": [
    {
     "name": "stdout",
     "output_type": "stream",
     "text": [
      "sum of the first 10 natural numbers= 55\n",
      "\n",
      "multiplication of the first 10 natural numbers= 3628800\n"
     ]
    }
   ],
   "source": [
    "#Q2 Write a python program to print the sum and product of the first 10 natural numbers using for loop and while loop\n",
    "\n",
    "#using for loop\n",
    "total=0\n",
    "mult=1\n",
    "for i in range(1,11):\n",
    "    total+=i\n",
    "    mult*=i\n",
    "print(\"sum of the first 10 natural numbers=\",total)\n",
    "print()\n",
    "print(\"product of the first 10 natural numbers=\",mult)"
   ]
  },
  {
   "cell_type": "code",
   "execution_count": 8,
   "id": "a79f2d04",
   "metadata": {},
   "outputs": [
    {
     "name": "stdout",
     "output_type": "stream",
     "text": [
      "sum of fisrt 10 natural numbers= 55\n",
      "product of first 10 natural numbers= 3628800\n"
     ]
    }
   ],
   "source": [
    "#using while loop\n",
    "n=10\n",
    "total=0\n",
    "mult=1\n",
    "while(n>0):\n",
    "    total+=n\n",
    "    mult=mult*n\n",
    "    n-=1\n",
    "print(\"sum of fisrt 10 natural numbers=\",total)\n",
    "print(\"product of first 10 natural numbers=\",mult)\n"
   ]
  },
  {
   "cell_type": "code",
   "execution_count": 39,
   "id": "d0dd4d48",
   "metadata": {},
   "outputs": [
    {
     "name": "stdout",
     "output_type": "stream",
     "text": [
      "Enter Electricty consumed in a month=310\n",
      "Electrity bill is= 2250.0\n"
     ]
    }
   ],
   "source": [
    "#Q3 Creat a  python program to compute the electricty bill for a household\n",
    "units=int(input(\"Enter Electricty consumed in a month=\"))\n",
    "e_bill=0\n",
    "\n",
    "if units <= 100:\n",
    "    e_bill = unit * 4.5\n",
    "elif units <= 200:\n",
    "    e_bill = 100 * 4.5 + (units - 100) * 6\n",
    "elif units <= 300:\n",
    "    e_bill = 100 * 4.5 + 100 * 6 + (units - 200) * 10\n",
    "else:\n",
    "    e_bill = 100 * 4.5 + 100 * 6 + 100 * 10 + (units - 300) * 20\n",
    "print(\"Electrity bill is=\",e_bill)"
   ]
  },
  {
   "cell_type": "code",
   "execution_count": 28,
   "id": "77004e78",
   "metadata": {},
   "outputs": [
    {
     "name": "stdout",
     "output_type": "stream",
     "text": [
      "qube of each number\n",
      "[1, 8, 27, 64, 125, 216, 343, 512, 729, 1000, 1331, 1728, 2197, 2744, 3375, 4096, 4913, 5832, 6859, 8000, 9261, 10648, 12167, 13824, 15625, 17576, 19683, 21952, 24389, 27000, 29791, 32768, 35937, 39304, 42875, 46656, 50653, 54872, 59319, 64000, 68921, 74088, 79507, 85184, 91125, 97336, 103823, 110592, 117649, 125000, 132651, 140608, 148877, 157464, 166375, 175616, 185193, 195112, 205379, 216000, 226981, 238328, 250047, 262144, 274625, 287496, 300763, 314432, 328509, 343000, 357911, 373248, 389017, 405224, 421875, 438976, 456533, 474552, 493039, 512000, 531441, 551368, 571787, 592704, 614125, 636056, 658503, 681472, 704969, 729000, 753571, 778688, 804357, 830584, 857375, 884736, 912673, 941192, 970299, 1000000]\n",
      "\n",
      "all the numbers whose divided by 4 or 5 are stored in list and shown below\n",
      "\n",
      "[8, 64, 125, 216, 512, 1000, 1728, 2744, 3375, 4096, 5832, 8000, 10648, 13824, 15625, 17576, 21952, 27000, 32768, 39304, 42875, 46656, 54872, 64000, 74088, 85184, 91125, 97336, 110592, 125000, 140608, 157464, 166375, 175616, 195112, 216000, 238328, 262144, 274625, 287496, 314432, 343000, 373248, 405224, 421875, 438976, 474552, 512000, 551368, 592704, 614125, 636056, 681472, 729000, 778688, 830584, 857375, 884736, 941192, 1000000]\n"
     ]
    }
   ],
   "source": [
    "#Q4 Creat a list of numbers from 1 to 100, calc cube of each numbr and check no divide by 4 or 5 then append it in list\n",
    "\n",
    "# USING FOR LOOP\n",
    "\n",
    "l1=list(range(1,100+1))\n",
    "l2=[]\n",
    "m=0\n",
    "l3=[]\n",
    "for i in l1:\n",
    "    l2.append(i**3)\n",
    "    m=i**3     #taking a var and storing cubes in it for further operation\n",
    "    if(m%4==0 or m%5==0 ):\n",
    "        l3.append(m)     \n",
    "print(\"qube of each number\")\n",
    "print(l2)\n",
    "print()\n",
    "print(\"all the numbers whose divided by 4 or 5 are stored in list and shown below\")\n",
    "print()\n",
    "print(l3)\n",
    "    \n",
    "    \n",
    "        "
   ]
  },
  {
   "cell_type": "code",
   "execution_count": 61,
   "id": "ce5b4e39",
   "metadata": {},
   "outputs": [
    {
     "name": "stdout",
     "output_type": "stream",
     "text": [
      "Qube of each number\n",
      "[1000000, 970299, 941192, 912673, 884736, 857375, 830584, 804357, 778688, 753571, 729000, 704969, 681472, 658503, 636056, 614125, 592704, 571787, 551368, 531441, 512000, 493039, 474552, 456533, 438976, 421875, 405224, 389017, 373248, 357911, 343000, 328509, 314432, 300763, 287496, 274625, 262144, 250047, 238328, 226981, 216000, 205379, 195112, 185193, 175616, 166375, 157464, 148877, 140608, 132651, 125000, 117649, 110592, 103823, 97336, 91125, 85184, 79507, 74088, 68921, 64000, 59319, 54872, 50653, 46656, 42875, 39304, 35937, 32768, 29791, 27000, 24389, 21952, 19683, 17576, 15625, 13824, 12167, 10648, 9261, 8000, 6859, 5832, 4913, 4096, 3375, 2744, 2197, 1728, 1331, 1000, 729, 512, 343, 216, 125, 64, 27, 8, 1]\n",
      "\n",
      "All the numbers whose divided by 4 or 5 are stored in list and shown below\n",
      "\n",
      "[1000000, 941192, 884736, 857375, 830584, 778688, 729000, 681472, 636056, 614125, 592704, 551368, 512000, 474552, 438976, 421875, 405224, 373248, 343000, 314432, 287496, 274625, 262144, 238328, 216000, 195112, 175616, 166375, 157464, 140608, 125000, 110592, 97336, 91125, 85184, 74088, 64000, 54872, 46656, 42875, 39304, 32768, 27000, 21952, 17576, 15625, 13824, 10648, 8000, 5832, 4096, 3375, 2744, 1728, 1000, 512, 216, 125, 64, 8]\n"
     ]
    }
   ],
   "source": [
    "# USING WHILE LOOP\n",
    "\n",
    "l1=list(range(1,100+1))\n",
    "n=len(l1)\n",
    "l2=[]\n",
    "m=0\n",
    "l3=[]\n",
    "\n",
    "while(n>0):\n",
    "    l2.append((n**3))\n",
    "    m=n**3\n",
    "    if(m%4==0 or m%5==0):\n",
    "        l3.append(m)\n",
    "    n-=1\n",
    "print(\"Qube of each number\")\n",
    "print(l2)\n",
    "print()\n",
    "print(\"All the numbers whose divided by 4 or 5 are stored in list and shown below\")\n",
    "print()\n",
    "print(l3)\n",
    "    "
   ]
  },
  {
   "cell_type": "code",
   "execution_count": 94,
   "id": "7451c4cf",
   "metadata": {},
   "outputs": [
    {
     "name": "stdout",
     "output_type": "stream",
     "text": [
      "Qube of each number\n",
      "[1, 8, 27, 64, 125, 216, 343, 512, 729, 1000, 1331, 1728, 2197, 2744, 3375, 4096, 4913, 5832, 6859, 8000, 9261, 10648, 12167, 13824, 15625, 17576, 19683, 21952, 24389, 27000, 29791, 32768, 35937, 39304, 42875, 46656, 50653, 54872, 59319, 64000, 68921, 74088, 79507, 85184, 91125, 97336, 103823, 110592, 117649, 125000, 132651, 140608, 148877, 157464, 166375, 175616, 185193, 195112, 205379, 216000, 226981, 238328, 250047, 262144, 274625, 287496, 300763, 314432, 328509, 343000, 357911, 373248, 389017, 405224, 421875, 438976, 456533, 474552, 493039, 512000, 531441, 551368, 571787, 592704, 614125, 636056, 658503, 681472, 704969, 729000, 753571, 778688, 804357, 830584, 857375, 884736, 912673, 941192, 970299]\n",
      "\n",
      "All the numbers whose divided by 4 or 5 are stored in list and shown below\n",
      "\n",
      "[8, 64, 125, 216, 512, 1000, 1728, 2744, 3375, 4096, 5832, 8000, 10648, 13824, 15625, 17576, 21952, 27000, 32768, 39304, 42875, 46656, 54872, 64000, 74088, 85184, 91125, 97336, 110592, 125000, 140608, 157464, 166375, 175616, 195112, 216000, 238328, 262144, 274625, 287496, 314432, 343000, 373248, 405224, 421875, 438976, 474552, 512000, 551368, 592704, 614125, 636056, 681472, 729000, 778688, 830584, 857375, 884736, 941192]\n"
     ]
    }
   ],
   "source": [
    "#  I AM WRITING ANOTHER PROGRAM BECAUSE IN UPPER PROGRAM THERE WAS ELEMENT IN UPPER TO LOWER\n",
    "# SO THATS WHY I AM WRITE THIS CODE , IN THIS CODE I STORE AFTER THE CUBE IN LIST I CANT TAKE A LIST FIRSTLY\n",
    "n=1\n",
    "l2=[]\n",
    "m=0\n",
    "l3=[]\n",
    "\n",
    "while(n<100):\n",
    "    l2.append((n**3))\n",
    "    m=n**3\n",
    "    if(m%4==0 or m%5==0):\n",
    "        l3.append(m)\n",
    "    n+=1\n",
    "print(\"Qube of each number\")\n",
    "print(l2)\n",
    "print()\n",
    "print(\"All the numbers whose divided by 4 or 5 are stored in list and shown below\")\n",
    "print()\n",
    "print(l3)"
   ]
  },
  {
   "cell_type": "code",
   "execution_count": 90,
   "id": "632f3cf7",
   "metadata": {},
   "outputs": [
    {
     "name": "stdout",
     "output_type": "stream",
     "text": [
      "There are 12 vowels are persent in this string\n"
     ]
    }
   ],
   "source": [
    "#Q5 Write a program to filter count vowels in the given string\n",
    "stri=\"i want to become a data scientist\"\n",
    "count=0\n",
    "n=len(stri)\n",
    "for i in range(n):\n",
    "    if(stri[i]==\"a\" or stri[i]==\"e\" or stri[i]==\"i\" or stri[i]==\"o\" or stri[i]==\"u\"):\n",
    "        count+=1\n",
    "print(\"There are\",count,\"vowels are persent in this string\")"
   ]
  },
  {
   "cell_type": "code",
   "execution_count": 93,
   "id": "97efbf34",
   "metadata": {},
   "outputs": [
    {
     "name": "stdout",
     "output_type": "stream",
     "text": [
      "Qube of each number\n",
      "[1, 8, 27, 64, 125, 216, 343, 512, 729, 1000, 1331, 1728, 2197, 2744, 3375, 4096, 4913, 5832, 6859, 8000, 9261, 10648, 12167, 13824, 15625, 17576, 19683, 21952, 24389, 27000, 29791, 32768, 35937, 39304, 42875, 46656, 50653, 54872, 59319, 64000, 68921, 74088, 79507, 85184, 91125, 97336, 103823, 110592, 117649, 125000, 132651, 140608, 148877, 157464, 166375, 175616, 185193, 195112, 205379, 216000, 226981, 238328, 250047, 262144, 274625, 287496, 300763, 314432, 328509, 343000, 357911, 373248, 389017, 405224, 421875, 438976, 456533, 474552, 493039, 512000, 531441, 551368, 571787, 592704, 614125, 636056, 658503, 681472, 704969, 729000, 753571, 778688, 804357, 830584, 857375, 884736, 912673, 941192, 970299]\n",
      "\n",
      "All the numbers whose divided by 4 or 5 are stored in list and shown below\n",
      "\n",
      "[8, 64, 125, 216, 512, 1000, 1728, 2744, 3375, 4096, 5832, 8000, 10648, 13824, 15625, 17576, 21952, 27000, 32768, 39304, 42875, 46656, 54872, 64000, 74088, 85184, 91125, 97336, 110592, 125000, 140608, 157464, 166375, 175616, 195112, 216000, 238328, 262144, 274625, 287496, 314432, 343000, 373248, 405224, 421875, 438976, 474552, 512000, 551368, 592704, 614125, 636056, 681472, 729000, 778688, 830584, 857375, 884736, 941192]\n"
     ]
    }
   ],
   "source": [
    "n=1\n",
    "l2=[]\n",
    "m=0\n",
    "l3=[]\n",
    "\n",
    "while(n<100):\n",
    "    l2.append((n**3))\n",
    "    m=n**3\n",
    "    if(m%4==0 or m%5==0):\n",
    "        l3.append(m)\n",
    "    n+=1\n",
    "print(\"Qube of each number\")\n",
    "print(l2)\n",
    "print()\n",
    "print(\"All the numbers whose divided by 4 or 5 are stored in list and shown below\")\n",
    "print()\n",
    "print(l3)"
   ]
  },
  {
   "cell_type": "code",
   "execution_count": null,
   "id": "249d97bc",
   "metadata": {},
   "outputs": [],
   "source": []
  },
  {
   "cell_type": "code",
   "execution_count": null,
   "id": "ad2c7948",
   "metadata": {},
   "outputs": [],
   "source": []
  }
 ],
 "metadata": {
  "kernelspec": {
   "display_name": "Python 3 (ipykernel)",
   "language": "python",
   "name": "python3"
  },
  "language_info": {
   "codemirror_mode": {
    "name": "ipython",
    "version": 3
   },
   "file_extension": ".py",
   "mimetype": "text/x-python",
   "name": "python",
   "nbconvert_exporter": "python",
   "pygments_lexer": "ipython3",
   "version": "3.10.6"
  }
 },
 "nbformat": 4,
 "nbformat_minor": 5
}
